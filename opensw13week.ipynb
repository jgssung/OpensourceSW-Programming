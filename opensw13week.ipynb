{
  "nbformat": 4,
  "nbformat_minor": 0,
  "metadata": {
    "colab": {
      "provenance": []
    },
    "kernelspec": {
      "name": "python3",
      "display_name": "Python 3"
    },
    "language_info": {
      "name": "python"
    }
  },
  "cells": [
    {
      "cell_type": "code",
      "execution_count": null,
      "metadata": {
        "id": "hRgG1YEuQSTp",
        "colab": {
          "base_uri": "https://localhost:8080/"
        },
        "outputId": "06a03405-d0e3-4e92-e147-89fc229097fb"
      },
      "outputs": [
        {
          "output_type": "execute_result",
          "data": {
            "text/plain": [
              "[1, 2, 3, 4]"
            ]
          },
          "metadata": {},
          "execution_count": 3
        }
      ],
      "source": [
        "a = [1, 2, 3]\n",
        "b = a\n",
        "a.append(4)\n",
        "b"
      ]
    },
    {
      "cell_type": "code",
      "source": [
        "class Gizmo:\n",
        "    def __init__(self):\n",
        "        print('Gizmo id : %d' % id(self))\n",
        "\n",
        "x = Gizmo()"
      ],
      "metadata": {
        "colab": {
          "base_uri": "https://localhost:8080/"
        },
        "id": "JmAx3PeZQXDD",
        "outputId": "3e7733a5-b9ff-4838-86a5-fccdc3b6ba25"
      },
      "execution_count": null,
      "outputs": [
        {
          "output_type": "stream",
          "name": "stdout",
          "text": [
            "Gizmo id : 135167721149712\n"
          ]
        }
      ]
    },
    {
      "cell_type": "code",
      "source": [
        "y = Gizmo() * 10"
      ],
      "metadata": {
        "colab": {
          "base_uri": "https://localhost:8080/",
          "height": 166
        },
        "id": "XwRNJIBwbOZG",
        "outputId": "6d0469b0-8904-4770-ec41-0693b03a70b6"
      },
      "execution_count": null,
      "outputs": [
        {
          "output_type": "stream",
          "name": "stdout",
          "text": [
            "Gizmo id : 135167723395616\n"
          ]
        },
        {
          "output_type": "error",
          "ename": "TypeError",
          "evalue": "unsupported operand type(s) for *: 'Gizmo' and 'int'",
          "traceback": [
            "\u001b[0;31m---------------------------------------------------------------------------\u001b[0m",
            "\u001b[0;31mTypeError\u001b[0m                                 Traceback (most recent call last)",
            "\u001b[0;32m<ipython-input-6-2beac7b9470d>\u001b[0m in \u001b[0;36m<cell line: 1>\u001b[0;34m()\u001b[0m\n\u001b[0;32m----> 1\u001b[0;31m \u001b[0my\u001b[0m \u001b[0;34m=\u001b[0m \u001b[0mGizmo\u001b[0m\u001b[0;34m(\u001b[0m\u001b[0;34m)\u001b[0m \u001b[0;34m*\u001b[0m \u001b[0;36m10\u001b[0m\u001b[0;34m\u001b[0m\u001b[0;34m\u001b[0m\u001b[0m\n\u001b[0m",
            "\u001b[0;31mTypeError\u001b[0m: unsupported operand type(s) for *: 'Gizmo' and 'int'"
          ]
        }
      ]
    },
    {
      "cell_type": "code",
      "source": [
        "dir()"
      ],
      "metadata": {
        "colab": {
          "base_uri": "https://localhost:8080/"
        },
        "id": "WJbR8hD_bObY",
        "outputId": "104a0c71-4855-4b14-e600-b24690b5b730"
      },
      "execution_count": null,
      "outputs": [
        {
          "output_type": "execute_result",
          "data": {
            "text/plain": [
              "['Gizmo',\n",
              " 'In',\n",
              " 'Out',\n",
              " '_',\n",
              " '_1',\n",
              " '_3',\n",
              " '__',\n",
              " '___',\n",
              " '__builtin__',\n",
              " '__builtins__',\n",
              " '__doc__',\n",
              " '__loader__',\n",
              " '__name__',\n",
              " '__package__',\n",
              " '__spec__',\n",
              " '_dh',\n",
              " '_i',\n",
              " '_i1',\n",
              " '_i2',\n",
              " '_i3',\n",
              " '_i4',\n",
              " '_i5',\n",
              " '_i6',\n",
              " '_i7',\n",
              " '_ih',\n",
              " '_ii',\n",
              " '_iii',\n",
              " '_oh',\n",
              " 'a',\n",
              " 'b',\n",
              " 'exit',\n",
              " 'get_ipython',\n",
              " 'quit',\n",
              " 'x']"
            ]
          },
          "metadata": {},
          "execution_count": 7
        }
      ]
    },
    {
      "cell_type": "code",
      "source": [
        "charles = {'name' : 'Charles L. Dodgson', 'born' : 1832}\n",
        "lewis = charles"
      ],
      "metadata": {
        "id": "KZzyw6rnbOdX"
      },
      "execution_count": null,
      "outputs": []
    },
    {
      "cell_type": "code",
      "source": [
        "lewis is charles"
      ],
      "metadata": {
        "colab": {
          "base_uri": "https://localhost:8080/"
        },
        "id": "Ee2FVNeTbZz1",
        "outputId": "bbed8def-da53-46d2-b026-60950f034998"
      },
      "execution_count": null,
      "outputs": [
        {
          "output_type": "execute_result",
          "data": {
            "text/plain": [
              "True"
            ]
          },
          "metadata": {},
          "execution_count": 9
        }
      ]
    },
    {
      "cell_type": "code",
      "source": [
        "id(charles), id(lewis)"
      ],
      "metadata": {
        "colab": {
          "base_uri": "https://localhost:8080/"
        },
        "id": "KimoXJSQbZ73",
        "outputId": "09fa974d-e36f-4a2f-af69-8dfb4fd3fb9f"
      },
      "execution_count": null,
      "outputs": [
        {
          "output_type": "execute_result",
          "data": {
            "text/plain": [
              "(135167502513472, 135167502513472)"
            ]
          },
          "metadata": {},
          "execution_count": 10
        }
      ]
    },
    {
      "cell_type": "code",
      "source": [
        "lewis['balance'] = 950\n",
        "charles"
      ],
      "metadata": {
        "colab": {
          "base_uri": "https://localhost:8080/"
        },
        "id": "VkP8MkSybZ86",
        "outputId": "2ba3c961-e215-40d5-980f-ee5c62233a99"
      },
      "execution_count": null,
      "outputs": [
        {
          "output_type": "execute_result",
          "data": {
            "text/plain": [
              "{'name': 'Charles L. Dodgson', 'born': 1832, 'balance': 950}"
            ]
          },
          "metadata": {},
          "execution_count": 11
        }
      ]
    },
    {
      "cell_type": "code",
      "source": [
        "alex = {'name' : 'Charles L. Dodgson', 'born' : 1832, 'balance' : 950}\n",
        "alex == charles"
      ],
      "metadata": {
        "colab": {
          "base_uri": "https://localhost:8080/"
        },
        "id": "l1Z7IWtkbZ98",
        "outputId": "d0b68f8f-28c0-4755-ace9-a8ee6c3fd8cd"
      },
      "execution_count": null,
      "outputs": [
        {
          "output_type": "execute_result",
          "data": {
            "text/plain": [
              "True"
            ]
          },
          "metadata": {},
          "execution_count": 12
        }
      ]
    },
    {
      "cell_type": "code",
      "source": [
        "alex is charles"
      ],
      "metadata": {
        "colab": {
          "base_uri": "https://localhost:8080/"
        },
        "id": "a2JsRPkRbZ-4",
        "outputId": "f5080064-7245-4f30-cf96-88cbeae02636"
      },
      "execution_count": null,
      "outputs": [
        {
          "output_type": "execute_result",
          "data": {
            "text/plain": [
              "False"
            ]
          },
          "metadata": {},
          "execution_count": 13
        }
      ]
    },
    {
      "cell_type": "code",
      "source": [
        "t1 = (1, 2, [30, 40])\n",
        "t2 = (1, 2, [30, 40])\n",
        "t1 == t2, t1 is t2"
      ],
      "metadata": {
        "colab": {
          "base_uri": "https://localhost:8080/"
        },
        "id": "QJb4I4ahbaAE",
        "outputId": "c535d22e-2b7b-47a0-cf22-79303b23d43a"
      },
      "execution_count": null,
      "outputs": [
        {
          "output_type": "execute_result",
          "data": {
            "text/plain": [
              "(True, False)"
            ]
          },
          "metadata": {},
          "execution_count": 14
        }
      ]
    },
    {
      "cell_type": "code",
      "source": [
        "id(t1[-1])"
      ],
      "metadata": {
        "colab": {
          "base_uri": "https://localhost:8080/"
        },
        "id": "HDGdg52cbaBB",
        "outputId": "9ce54a0f-fc11-4fe1-d770-2a01686baa89"
      },
      "execution_count": null,
      "outputs": [
        {
          "output_type": "execute_result",
          "data": {
            "text/plain": [
              "135167502511488"
            ]
          },
          "metadata": {},
          "execution_count": 15
        }
      ]
    },
    {
      "cell_type": "code",
      "source": [
        "t1[-1].append(99)\n",
        "t1, id(t1[-1])"
      ],
      "metadata": {
        "colab": {
          "base_uri": "https://localhost:8080/"
        },
        "id": "83YcFTg8baCL",
        "outputId": "11ef9fb0-a026-4799-cc13-04c8d94f2a7e"
      },
      "execution_count": null,
      "outputs": [
        {
          "output_type": "execute_result",
          "data": {
            "text/plain": [
              "((1, 2, [30, 40, 99]), 135167502511488)"
            ]
          },
          "metadata": {},
          "execution_count": 16
        }
      ]
    },
    {
      "cell_type": "code",
      "source": [
        "t1 == t2"
      ],
      "metadata": {
        "colab": {
          "base_uri": "https://localhost:8080/"
        },
        "id": "EAZ9NWFIbaDM",
        "outputId": "7b1e9ad9-1aea-40fe-a73d-04343dbcb600"
      },
      "execution_count": null,
      "outputs": [
        {
          "output_type": "execute_result",
          "data": {
            "text/plain": [
              "False"
            ]
          },
          "metadata": {},
          "execution_count": 17
        }
      ]
    },
    {
      "cell_type": "code",
      "source": [
        "l1 = [3, [66, 55, 44], (7, 8, 9)]\n",
        "l2 = list(l1)"
      ],
      "metadata": {
        "id": "3NUDbzU1baEI"
      },
      "execution_count": null,
      "outputs": []
    },
    {
      "cell_type": "code",
      "source": [
        "l1.append(100)"
      ],
      "metadata": {
        "id": "OLL5ykQnbaFJ"
      },
      "execution_count": null,
      "outputs": []
    },
    {
      "cell_type": "code",
      "source": [
        "l1[1].remove(55)\n",
        "print('l1:', l1)\n",
        "print('l2:', l2)"
      ],
      "metadata": {
        "colab": {
          "base_uri": "https://localhost:8080/"
        },
        "id": "lXollBxNbaGI",
        "outputId": "40b1a6d2-b1f4-40b9-9811-714905151281"
      },
      "execution_count": null,
      "outputs": [
        {
          "output_type": "stream",
          "name": "stdout",
          "text": [
            "l1: [3, [66, 44], (7, 8, 9), 100]\n",
            "l2: [3, [66, 44], (7, 8, 9)]\n"
          ]
        }
      ]
    },
    {
      "cell_type": "code",
      "source": [
        "l2[1] += [33, 22]"
      ],
      "metadata": {
        "id": "LyiJzVYobaHD"
      },
      "execution_count": null,
      "outputs": []
    },
    {
      "cell_type": "code",
      "source": [
        "l2[2] += (10, 11)\n",
        "\n",
        "print('l1:', l1)\n",
        "print('l2:', l2)"
      ],
      "metadata": {
        "colab": {
          "base_uri": "https://localhost:8080/"
        },
        "id": "9jcmtlIibaIF",
        "outputId": "17965e9e-07af-4e06-a316-0ad1ef768c47"
      },
      "execution_count": null,
      "outputs": [
        {
          "output_type": "stream",
          "name": "stdout",
          "text": [
            "l1: [3, [66, 44, 33, 22], (7, 8, 9), 100]\n",
            "l2: [3, [66, 44, 33, 22], (7, 8, 9, 10, 11)]\n"
          ]
        }
      ]
    },
    {
      "cell_type": "code",
      "source": [
        "class Bus:\n",
        "    def __init__(self, passengers=None):\n",
        "        if passengers is None:\n",
        "            self.passengers = []\n",
        "        else:\n",
        "            self.passengers = list(passengers)\n",
        "\n",
        "    def pick(self, name):\n",
        "        self.passengers.append(name)\n",
        "\n",
        "    def drop(self, name):\n",
        "        self.passengers.remove(name)"
      ],
      "metadata": {
        "id": "OFmfcHPRbaJF"
      },
      "execution_count": null,
      "outputs": []
    },
    {
      "cell_type": "code",
      "source": [
        "import copy\n",
        "bus1 = Bus(['Alice', 'Bill', 'Claire', 'David'])\n",
        "bus2 = copy.copy(bus1)\n",
        "bus3 = copy.deepcopy(bus1)\n",
        "id(bus1), id(bus2), id(bus3)"
      ],
      "metadata": {
        "colab": {
          "base_uri": "https://localhost:8080/"
        },
        "id": "LLuY2gZlbaKN",
        "outputId": "9be1108c-2e2d-484e-c3fe-f2d72af3a35c"
      },
      "execution_count": null,
      "outputs": [
        {
          "output_type": "execute_result",
          "data": {
            "text/plain": [
              "(135167723394224, 135167723400512, 135167723397200)"
            ]
          },
          "metadata": {},
          "execution_count": 24
        }
      ]
    },
    {
      "cell_type": "code",
      "source": [
        "bus1.drop('Bill')\n",
        "bus1.passengers, bus2.passengers, bus3.passengers"
      ],
      "metadata": {
        "colab": {
          "base_uri": "https://localhost:8080/"
        },
        "id": "8ZXRptZ1baK_",
        "outputId": "533991b1-7fd7-474a-e4aa-98ff81d0e91c"
      },
      "execution_count": null,
      "outputs": [
        {
          "output_type": "execute_result",
          "data": {
            "text/plain": [
              "(['Alice', 'Claire', 'David'],\n",
              " ['Alice', 'Claire', 'David'],\n",
              " ['Alice', 'Bill', 'Claire', 'David'])"
            ]
          },
          "metadata": {},
          "execution_count": 25
        }
      ]
    },
    {
      "cell_type": "code",
      "source": [
        "id(bus1.passengers), id(bus2.passengers), id(bus3.passengers)\n",
        "# bus1과 bus2가 동일 리스트를 공유한다. 반면 bus3는 다른 리스트를 가리킨다."
      ],
      "metadata": {
        "colab": {
          "base_uri": "https://localhost:8080/"
        },
        "id": "ubAMopjKbaLw",
        "outputId": "2f1c2747-6fa2-4721-a55b-bbac5b809ea4"
      },
      "execution_count": null,
      "outputs": [
        {
          "output_type": "execute_result",
          "data": {
            "text/plain": [
              "(135167503187520, 135167503187520, 135167503179712)"
            ]
          },
          "metadata": {},
          "execution_count": 26
        }
      ]
    },
    {
      "cell_type": "code",
      "source": [
        "a = [10, 20]\n",
        "b = [a, 30]\n",
        "a.append(b)\n",
        "a"
      ],
      "metadata": {
        "id": "0SyLSqwvbaMq",
        "colab": {
          "base_uri": "https://localhost:8080/"
        },
        "outputId": "5e12386b-d224-48e8-c534-c8ec26ac5d45"
      },
      "execution_count": null,
      "outputs": [
        {
          "output_type": "execute_result",
          "data": {
            "text/plain": [
              "[10, 20, [[...], 30]]"
            ]
          },
          "metadata": {},
          "execution_count": 27
        }
      ]
    },
    {
      "cell_type": "code",
      "source": [
        "c = copy.deepcopy(a)\n",
        "c"
      ],
      "metadata": {
        "id": "5FN60oG5baNU",
        "colab": {
          "base_uri": "https://localhost:8080/"
        },
        "outputId": "02fa86c1-bfdb-4c9e-a3c6-4b058fd733b0"
      },
      "execution_count": null,
      "outputs": [
        {
          "output_type": "execute_result",
          "data": {
            "text/plain": [
              "[10, 20, [[...], 30]]"
            ]
          },
          "metadata": {},
          "execution_count": 29
        }
      ]
    },
    {
      "cell_type": "code",
      "source": [
        "def f(a, b):\n",
        "    a += b\n",
        "    return a"
      ],
      "metadata": {
        "id": "CIzEoV74baOB"
      },
      "execution_count": null,
      "outputs": []
    },
    {
      "cell_type": "code",
      "source": [
        "x = 1\n",
        "y = 2\n",
        "f(x, y), (x, y)"
      ],
      "metadata": {
        "id": "lsTW2K90baOp",
        "colab": {
          "base_uri": "https://localhost:8080/"
        },
        "outputId": "7d74b0c2-6060-4072-c467-b98876b3d823"
      },
      "execution_count": null,
      "outputs": [
        {
          "output_type": "execute_result",
          "data": {
            "text/plain": [
              "(3, (1, 2))"
            ]
          },
          "metadata": {},
          "execution_count": 31
        }
      ]
    },
    {
      "cell_type": "code",
      "source": [
        "a = [1, 2]\n",
        "b = [3, 4]\n",
        "f(a,b), (a, b)"
      ],
      "metadata": {
        "id": "Ep-QuFDtbaPa",
        "colab": {
          "base_uri": "https://localhost:8080/"
        },
        "outputId": "94f704ce-0816-47a3-9751-84908af304a8"
      },
      "execution_count": null,
      "outputs": [
        {
          "output_type": "execute_result",
          "data": {
            "text/plain": [
              "([1, 2, 3, 4], ([1, 2, 3, 4], [3, 4]))"
            ]
          },
          "metadata": {},
          "execution_count": 33
        }
      ]
    },
    {
      "cell_type": "code",
      "source": [
        "t = (10, 20)\n",
        "u = (30, 40)\n",
        "f(t, u), (t, u)"
      ],
      "metadata": {
        "id": "w-MCo-xtbaQr",
        "colab": {
          "base_uri": "https://localhost:8080/"
        },
        "outputId": "368d5b21-d7a1-4826-b71f-c1abe2517666"
      },
      "execution_count": null,
      "outputs": [
        {
          "output_type": "execute_result",
          "data": {
            "text/plain": [
              "((10, 20, 30, 40), ((10, 20), (30, 40)))"
            ]
          },
          "metadata": {},
          "execution_count": 34
        }
      ]
    },
    {
      "cell_type": "code",
      "source": [
        "class HauntedBus:\n",
        "    \"\"\"유령 승객이 출몰하는 버스 모델\"\"\"\n",
        "\n",
        "    def __init__(self, passengers=[]):\n",
        "        # [] 가 interpret 단계에서 생성되며 모든 인스턴스들이 같은 대상을 참조하게 되어 오류 발생\n",
        "        self.passengers = passengers\n",
        "\n",
        "    def pick(self, name):\n",
        "        self.passengers.append(name)\n",
        "\n",
        "    def drop(self, name):\n",
        "        self.passengers.remove(name)"
      ],
      "metadata": {
        "id": "gDhFmUvRbaRa"
      },
      "execution_count": null,
      "outputs": []
    },
    {
      "cell_type": "code",
      "source": [
        "bus1 = HauntedBus(['Alice', 'Bill'])\n",
        "bus1.passengers"
      ],
      "metadata": {
        "id": "EXYXbnzUbaSF",
        "colab": {
          "base_uri": "https://localhost:8080/"
        },
        "outputId": "6652e8c7-e153-4226-dff1-d2b3cb6c2ddc"
      },
      "execution_count": null,
      "outputs": [
        {
          "output_type": "execute_result",
          "data": {
            "text/plain": [
              "['Alice', 'Bill']"
            ]
          },
          "metadata": {},
          "execution_count": 36
        }
      ]
    },
    {
      "cell_type": "code",
      "source": [
        "bus1.pick('Charlie')\n",
        "bus1.drop('Alice')\n",
        "bus1.passengers"
      ],
      "metadata": {
        "id": "uhoAd4B5baSy",
        "colab": {
          "base_uri": "https://localhost:8080/"
        },
        "outputId": "698520c2-d744-4576-ab53-694465883b3e"
      },
      "execution_count": null,
      "outputs": [
        {
          "output_type": "execute_result",
          "data": {
            "text/plain": [
              "['Bill', 'Charlie']"
            ]
          },
          "metadata": {},
          "execution_count": 37
        }
      ]
    },
    {
      "cell_type": "code",
      "source": [
        "bus2 = HauntedBus()\n",
        "bus2.pick('Carrie')\n",
        "bus2.passengers"
      ],
      "metadata": {
        "id": "UbMDiosObaTi",
        "colab": {
          "base_uri": "https://localhost:8080/"
        },
        "outputId": "b8e41602-391c-4676-d8e8-19745b7e1fca"
      },
      "execution_count": null,
      "outputs": [
        {
          "output_type": "execute_result",
          "data": {
            "text/plain": [
              "['Carrie']"
            ]
          },
          "metadata": {},
          "execution_count": 38
        }
      ]
    },
    {
      "cell_type": "code",
      "source": [
        "bus3 = HauntedBus()\n",
        "bus3.passengers  # 초기값이 더이상 empty가 아님!"
      ],
      "metadata": {
        "id": "7gbJAwRPbaUV",
        "colab": {
          "base_uri": "https://localhost:8080/"
        },
        "outputId": "87eaf85f-1971-4dcc-de51-751d60fdf3a1"
      },
      "execution_count": null,
      "outputs": [
        {
          "output_type": "execute_result",
          "data": {
            "text/plain": [
              "['Carrie']"
            ]
          },
          "metadata": {},
          "execution_count": 39
        }
      ]
    },
    {
      "cell_type": "code",
      "source": [
        "bus3.pick('Dave')\n",
        "bus2.passengers"
      ],
      "metadata": {
        "id": "XPz1YKPhbaVE",
        "colab": {
          "base_uri": "https://localhost:8080/"
        },
        "outputId": "a53edaf1-0aba-4479-ee4b-1bad7d092470"
      },
      "execution_count": null,
      "outputs": [
        {
          "output_type": "execute_result",
          "data": {
            "text/plain": [
              "['Carrie', 'Dave']"
            ]
          },
          "metadata": {},
          "execution_count": 40
        }
      ]
    },
    {
      "cell_type": "code",
      "source": [
        "bus2.passengers is bus3.passengers"
      ],
      "metadata": {
        "id": "V-_AIsBVbaV6",
        "colab": {
          "base_uri": "https://localhost:8080/"
        },
        "outputId": "53556a0f-6859-4478-befa-649d0b6a4468"
      },
      "execution_count": null,
      "outputs": [
        {
          "output_type": "execute_result",
          "data": {
            "text/plain": [
              "True"
            ]
          },
          "metadata": {},
          "execution_count": 41
        }
      ]
    },
    {
      "cell_type": "code",
      "source": [
        "bus1.passengers"
      ],
      "metadata": {
        "id": "y_8raFaabaW0",
        "colab": {
          "base_uri": "https://localhost:8080/"
        },
        "outputId": "54921b08-6117-4ac9-fb32-def763d419f1"
      },
      "execution_count": null,
      "outputs": [
        {
          "output_type": "execute_result",
          "data": {
            "text/plain": [
              "['Bill', 'Charlie']"
            ]
          },
          "metadata": {},
          "execution_count": 42
        }
      ]
    },
    {
      "cell_type": "code",
      "source": [
        "HauntedBus.__init__.__defaults__"
      ],
      "metadata": {
        "id": "mNF4i7IrbaXz",
        "colab": {
          "base_uri": "https://localhost:8080/"
        },
        "outputId": "e7d5f10a-56bd-48ed-f333-d3e4d51ca18c"
      },
      "execution_count": null,
      "outputs": [
        {
          "output_type": "execute_result",
          "data": {
            "text/plain": [
              "(['Carrie', 'Dave'],)"
            ]
          },
          "metadata": {},
          "execution_count": 43
        }
      ]
    },
    {
      "cell_type": "code",
      "source": [
        "HauntedBus.__init__.__defaults__[0] is bus2.passengers\n",
        "# bus2.passengers가 HauntedBus.__init__.__defaults__[0]에 바인딩된 별명임을 알 수 있다."
      ],
      "metadata": {
        "colab": {
          "base_uri": "https://localhost:8080/"
        },
        "id": "_hcZ82YHIYfc",
        "outputId": "d4f47246-30c2-4f5b-ee94-3e5e602ea553"
      },
      "execution_count": null,
      "outputs": [
        {
          "output_type": "execute_result",
          "data": {
            "text/plain": [
              "True"
            ]
          },
          "metadata": {},
          "execution_count": 45
        }
      ]
    },
    {
      "cell_type": "code",
      "source": [
        "class TwilightBus:\n",
        "    \"\"\"승객이 사라지게 만드는 버스 모델\"\"\"\n",
        "\n",
        "    def __init__(self, passengers=None):\n",
        "        if passengers is None:\n",
        "            self.passengers = []\n",
        "        else:\n",
        "            self.passengers = passengers  # 사본 생성이 아니라 인수를 별명으로 사용\n",
        "\n",
        "    def pick(self, name):\n",
        "        self.passengers.append(name)\n",
        "\n",
        "    def drop(self, name):\n",
        "        self.passengers.remove(name)\n"
      ],
      "metadata": {
        "id": "bgFOe7WDbaYq"
      },
      "execution_count": null,
      "outputs": []
    },
    {
      "cell_type": "code",
      "source": [
        "basketball_team = ['Sue', 'Tina', 'Maya', 'Diana', 'Pat']\n",
        "bus = TwilightBus(basketball_team)\n",
        "bus.drop('Tina')\n",
        "bus.drop('Pat')\n",
        "basketball_team  # 선수단이 변경되어 버림"
      ],
      "metadata": {
        "id": "uiJd4pLgbaZb",
        "colab": {
          "base_uri": "https://localhost:8080/"
        },
        "outputId": "1fc3c18b-ea26-4116-b8d7-a8b917e78146"
      },
      "execution_count": null,
      "outputs": [
        {
          "output_type": "execute_result",
          "data": {
            "text/plain": [
              "['Sue', 'Maya', 'Diana']"
            ]
          },
          "metadata": {},
          "execution_count": 47
        }
      ]
    },
    {
      "cell_type": "code",
      "source": [
        "class TwilightBus:\n",
        "    \"\"\"승객이 사라지게 만드는 버스 모델\"\"\"\n",
        "\n",
        "    def __init__(self, passengers=None):\n",
        "        if passengers is None:\n",
        "            self.passengers = []\n",
        "        else:\n",
        "            self.passengers = list(passengers)  # 인수의 사본을 생성하여 별도로 저장\n",
        "\n",
        "    def pick(self, name):\n",
        "        self.passengers.append(name)\n",
        "\n",
        "    def drop(self, name):\n",
        "        self.passengers.remove(name)"
      ],
      "metadata": {
        "id": "6Yyhv10ubaaZ"
      },
      "execution_count": null,
      "outputs": []
    },
    {
      "cell_type": "code",
      "source": [
        "basketball_team = ['Sue', 'Tina', 'Maya', 'Diana', 'Pat']\n",
        "bus = TwilightBus(basketball_team)\n",
        "bus.drop('Tina')\n",
        "bus.drop('Pat')\n",
        "basketball_team"
      ],
      "metadata": {
        "id": "B4PMpY2XbabO",
        "colab": {
          "base_uri": "https://localhost:8080/"
        },
        "outputId": "bad16c35-1e7e-470a-d66b-2abdaf8a99f7"
      },
      "execution_count": null,
      "outputs": [
        {
          "output_type": "execute_result",
          "data": {
            "text/plain": [
              "['Sue', 'Tina', 'Maya', 'Diana', 'Pat']"
            ]
          },
          "metadata": {},
          "execution_count": 50
        }
      ]
    },
    {
      "cell_type": "code",
      "source": [
        "import weakref\n",
        "\n",
        "s1 = {1, 2, 3}\n",
        "s2 = s1"
      ],
      "metadata": {
        "id": "p6v0HcNKbab_"
      },
      "execution_count": null,
      "outputs": []
    },
    {
      "cell_type": "code",
      "source": [
        "def bye():\n",
        "    print('Gone with the wind...')"
      ],
      "metadata": {
        "id": "HS93c0TZbac0"
      },
      "execution_count": null,
      "outputs": []
    },
    {
      "cell_type": "code",
      "source": [
        "ender = weakref.finalize(s1, bye) # -> s1 가리키는 객체에 대해 bye() 콜백 등록"
      ],
      "metadata": {
        "id": "8Fdh0a76badu"
      },
      "execution_count": null,
      "outputs": []
    },
    {
      "cell_type": "code",
      "source": [
        "ender.alive"
      ],
      "metadata": {
        "id": "2nK6cXTbbae3",
        "colab": {
          "base_uri": "https://localhost:8080/"
        },
        "outputId": "59649bbd-d6a9-4f14-9247-5ac89f59a059"
      },
      "execution_count": null,
      "outputs": [
        {
          "output_type": "execute_result",
          "data": {
            "text/plain": [
              "True"
            ]
          },
          "metadata": {},
          "execution_count": 79
        }
      ]
    },
    {
      "cell_type": "code",
      "source": [
        "del s1  # -> Del은 객체가 아니라 객체에 대한 참조를 제거\n",
        "ender.alive"
      ],
      "metadata": {
        "id": "0OOfMPhnbafx",
        "colab": {
          "base_uri": "https://localhost:8080/"
        },
        "outputId": "85bb85d2-c3b1-4777-f4b4-b199b1b9c2cc"
      },
      "execution_count": null,
      "outputs": [
        {
          "output_type": "execute_result",
          "data": {
            "text/plain": [
              "True"
            ]
          },
          "metadata": {},
          "execution_count": 80
        }
      ]
    },
    {
      "cell_type": "code",
      "source": [
        "s2 = 'spam' # -> s2의 값이 바뀌면서 s1의 obj가 삭제됨, bye() 콜백 호출"
      ],
      "metadata": {
        "id": "MkTZZNw7bagr"
      },
      "execution_count": null,
      "outputs": []
    },
    {
      "cell_type": "code",
      "source": [
        "ender.alive"
      ],
      "metadata": {
        "id": "gEsHhdvnbahe",
        "colab": {
          "base_uri": "https://localhost:8080/"
        },
        "outputId": "867548b5-af41-42ec-856f-24a6acc013e6"
      },
      "execution_count": null,
      "outputs": [
        {
          "output_type": "stream",
          "name": "stdout",
          "text": [
            "Gone with the wind...\n"
          ]
        },
        {
          "output_type": "execute_result",
          "data": {
            "text/plain": [
              "False"
            ]
          },
          "metadata": {},
          "execution_count": 82
        }
      ]
    }
  ]
}